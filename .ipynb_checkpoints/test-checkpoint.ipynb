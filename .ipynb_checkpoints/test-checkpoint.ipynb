{
 "cells": [
  {
   "cell_type": "code",
   "execution_count": 27,
   "id": "953c3ede",
   "metadata": {},
   "outputs": [],
   "source": [
    "# Testing out raw h5 data of Event 11707158 from https://dasway.ess.washington.edu/gci/events/2023-06-10/index.html\n",
    "import h5py\n",
    "import matplotlib.pyplot as plt\n",
    "import os\n",
    "import numpy as np"
   ]
  },
  {
   "cell_type": "code",
   "execution_count": 62,
   "id": "661bed16",
   "metadata": {},
   "outputs": [
    {
     "name": "stdout",
     "output_type": "stream",
     "text": [
      "Data shape: (3000, 8531)\n",
      "DataTime shape: (3000,)\n",
      "DataSampleCount shape: (3000,)\n"
     ]
    }
   ],
   "source": [
    "file_path = os.path.join(\"testData\", \"KKFLS.h5\")\n",
    "\n",
    "# Load the data\n",
    "f = h5py.File(file_path, 'r')\n",
    "\n",
    "# Get dimensions of data\n",
    "data = f['Acquisition/Raw[0]/RawData'][:] # numpy array\n",
    "data_time = f['Acquisition/Raw[0]/RawDataTime'][:]\n",
    "data_sample_count = f['Acquisition/Raw[0]/RawDataSampleCount'][:]\n",
    "\n",
    "print(f\"Data shape: {data.shape}\")\n",
    "print(f\"DataTime shape: {data_time.shape}\")\n",
    "print(f\"DataSampleCount shape: {data_sample_count.shape}\")"
   ]
  },
  {
   "cell_type": "code",
   "execution_count": 63,
   "id": "df2eee74",
   "metadata": {},
   "outputs": [
    {
     "name": "stdout",
     "output_type": "stream",
     "text": [
      "(8531,)\n",
      "Minimum value: -175.65143\n",
      "Maximum value: 350.582\n",
      "Mean value: 1.4737564\n",
      "Unique values: [-175.65143 -170.60323 -158.94234 ...  248.17781  292.694    350.582  ]\n"
     ]
    }
   ],
   "source": [
    "# Test plotting\n",
    "data = data[0]\n",
    "print(data.shape)\n",
    "\n",
    "print(\"Minimum value:\", np.min(data)) \n",
    "print(\"Maximum value:\", np.max(data)) \n",
    "print(\"Mean value:\", np.mean(data)) \n",
    "print(\"Unique values:\", np.unique(data))"
   ]
  },
  {
   "cell_type": "code",
   "execution_count": 61,
   "id": "05d9cd85",
   "metadata": {},
   "outputs": [],
   "source": [
    "# plt.figure(figsize=(15, 8)) # Adjust the figure size as needed \n",
    "# plt.imshow(data, aspect='auto', cmap='viridis') \n",
    "# plt.colorbar(label='Value') # Add a colorbar for reference \n",
    "# plt.title(\"Data\") \n",
    "# plt.xlabel(\"Columns\")\n",
    "# plt.ylabel(\"Rows\") \n",
    "# plt.show()"
   ]
  },
  {
   "cell_type": "code",
   "execution_count": null,
   "id": "8b08b56b",
   "metadata": {},
   "outputs": [],
   "source": []
  }
 ],
 "metadata": {
  "kernelspec": {
   "display_name": "seismo 3.10 (SHARED)",
   "language": "python",
   "name": "seismo-py310-shared"
  },
  "language_info": {
   "codemirror_mode": {
    "name": "ipython",
    "version": 3
   },
   "file_extension": ".py",
   "mimetype": "text/x-python",
   "name": "python",
   "nbconvert_exporter": "python",
   "pygments_lexer": "ipython3",
   "version": "3.10.13"
  }
 },
 "nbformat": 4,
 "nbformat_minor": 5
}
